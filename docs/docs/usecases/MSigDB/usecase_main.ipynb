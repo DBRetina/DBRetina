{
 "cells": [
  {
   "cell_type": "code",
   "execution_count": 13,
   "metadata": {},
   "outputs": [],
   "source": [
    "import urllib.request as request\n",
    "import os"
   ]
  },
  {
   "cell_type": "code",
   "execution_count": 17,
   "metadata": {},
   "outputs": [
    {
     "name": "stdout",
     "output_type": "stream",
     "text": [
      "canonical_pathways.gmt already exists\n",
      "biocarta.gmt already exists\n",
      "kegg.gmt already exists\n",
      "pid.gmt already exists\n",
      "reactome.gmt already exists\n",
      "wikipathways.gmt already exists\n"
     ]
    }
   ],
   "source": [
    "#######################################\n",
    "### Downloading MSigDB gene sets. #####\n",
    "### Version: 2023.1 ###################\n",
    "#######################################\n",
    "\n",
    "\n",
    "# download to a file\n",
    "\n",
    "import requests\n",
    "\n",
    "def download_file(url, filename):\n",
    "    \n",
    "    if os.path.exists(filename):\n",
    "        print(f\"{filename} already exists\")\n",
    "        return\n",
    "    \n",
    "    headers = {\n",
    "        'User-Agent': 'Mozilla/5.0 (Windows NT 10.0; Win64; x64) AppleWebKit/537.36 (KHTML, like Gecko) Chrome/58.0.3029.110 Safari/537'\n",
    "    }\n",
    "    response = requests.get(url, headers=headers, stream=True)\n",
    "    \n",
    "    if response.status_code == 200:\n",
    "        with open(filename, 'wb') as f:\n",
    "            for chunk in response.iter_content(chunk_size=1024):\n",
    "                if chunk: # filter out keep-alive new chunks\n",
    "                    f.write(chunk)\n",
    "        print(f\"{filename} downloaded successfully\")\n",
    "    else:\n",
    "        print(f\"Failed to download {filename}. Status code: {response.status_code}\")\n",
    "\n",
    "\n",
    "\n",
    "\n",
    "separate_databases = {\n",
    "    \"canonical_pathways\": \"https://data.broadinstitute.org/gsea-msigdb/msigdb/release/2023.1.Hs/c2.cp.v2023.1.Hs.symbols.gmt\",\n",
    "    \"biocarta\" : \"https://data.broadinstitute.org/gsea-msigdb/msigdb/release/2023.1.Hs/c2.cp.biocarta.v2023.1.Hs.symbols.gmt\",\n",
    "    \"kegg\": \"https://data.broadinstitute.org/gsea-msigdb/msigdb/release/2023.1.Hs/c2.cp.kegg.v2023.1.Hs.symbols.gmt\",\n",
    "    \"pid\": \"https://data.broadinstitute.org/gsea-msigdb/msigdb/release/2023.1.Hs/c2.cp.pid.v2023.1.Hs.symbols.gmt\",\n",
    "    \"reactome\": \"https://data.broadinstitute.org/gsea-msigdb/msigdb/release/2023.1.Hs/c2.cp.reactome.v2023.1.Hs.symbols.gmt\",\n",
    "    \"wikipathways\": \"https://data.broadinstitute.org/gsea-msigdb/msigdb/release/2023.1.Hs/c2.cp.wikipathways.v2023.1.Hs.symbols.gmt\"\n",
    "}\n",
    "\n",
    "# download all\n",
    "for name, url in separate_databases.items():\n",
    "    download_file(url, f\"{name}.gmt\")"
   ]
  },
  {
   "cell_type": "code",
   "execution_count": null,
   "metadata": {},
   "outputs": [],
   "source": []
  }
 ],
 "metadata": {
  "kernelspec": {
   "display_name": "kspider",
   "language": "python",
   "name": "python3"
  },
  "language_info": {
   "codemirror_mode": {
    "name": "ipython",
    "version": 3
   },
   "file_extension": ".py",
   "mimetype": "text/x-python",
   "name": "python",
   "nbconvert_exporter": "python",
   "pygments_lexer": "ipython3",
   "version": "3.10.8"
  },
  "orig_nbformat": 4
 },
 "nbformat": 4,
 "nbformat_minor": 2
}
